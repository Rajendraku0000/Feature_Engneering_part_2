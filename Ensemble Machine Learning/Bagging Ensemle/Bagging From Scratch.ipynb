{
 "cells": [
  {
   "cell_type": "code",
   "execution_count": 1,
   "id": "ffdb4e08",
   "metadata": {},
   "outputs": [],
   "source": [
    "import numpy as np\n",
    "import pandas as pd"
   ]
  },
  {
   "cell_type": "code",
   "execution_count": null,
   "id": "d9c9f271",
   "metadata": {},
   "outputs": [],
   "source": []
  },
  {
   "cell_type": "code",
   "execution_count": 5,
   "id": "6d88333b",
   "metadata": {},
   "outputs": [],
   "source": [
    "from sklearn.datasets import make_classification"
   ]
  },
  {
   "cell_type": "code",
   "execution_count": 13,
   "id": "059c4a9b",
   "metadata": {},
   "outputs": [],
   "source": [
    "x,y=make_classification(n_samples=1000,n_features=20)"
   ]
  },
  {
   "cell_type": "code",
   "execution_count": 14,
   "id": "2aa5b482",
   "metadata": {},
   "outputs": [
    {
     "data": {
      "text/plain": [
       "(1000, 20)"
      ]
     },
     "execution_count": 14,
     "metadata": {},
     "output_type": "execute_result"
    }
   ],
   "source": [
    "x.shape"
   ]
  },
  {
   "cell_type": "code",
   "execution_count": 15,
   "id": "a9ffb0c9",
   "metadata": {},
   "outputs": [
    {
     "data": {
      "text/plain": [
       "(1000,)"
      ]
     },
     "execution_count": 15,
     "metadata": {},
     "output_type": "execute_result"
    }
   ],
   "source": [
    "y.shape"
   ]
  },
  {
   "cell_type": "code",
   "execution_count": 16,
   "id": "115bb4ea",
   "metadata": {},
   "outputs": [],
   "source": [
    "from sklearn.model_selection import train_test_split"
   ]
  },
  {
   "cell_type": "code",
   "execution_count": 17,
   "id": "ca789ff8",
   "metadata": {},
   "outputs": [],
   "source": [
    "x_train,x_test,y_train,y_test=train_test_split(x,y,test_size=0.2,random_state=42)"
   ]
  },
  {
   "cell_type": "code",
   "execution_count": 19,
   "id": "4192992d",
   "metadata": {},
   "outputs": [],
   "source": [
    "# step 1\n",
    "base_learners=[]"
   ]
  },
  {
   "cell_type": "code",
   "execution_count": 20,
   "id": "9192db49",
   "metadata": {},
   "outputs": [],
   "source": [
    "# step 2\n",
    "num_best_learners=10"
   ]
  },
  {
   "cell_type": "code",
   "execution_count": 22,
   "id": "ffd0f214",
   "metadata": {},
   "outputs": [],
   "source": [
    "from sklearn.ensemble import RandomForestClassifier"
   ]
  },
  {
   "cell_type": "code",
   "execution_count": 24,
   "id": "af7d9799",
   "metadata": {},
   "outputs": [],
   "source": [
    "# step 3 train the model\n",
    "\n",
    "for i in range (num_best_learners):\n",
    "    # step 4 create  bootstep\n",
    "    bootstrap_indices=np.random.choice(len(x_train),size=len(x_train),replace=True)\n",
    "    x_boostrap=x_train[bootstrap_indices]\n",
    "    y_boostrap=y_train[bootstrap_indices]\n",
    "    \n",
    "    # step 5 create and train a base learning (random forest)\n",
    "    \n",
    "    base_learner=RandomForestClassifier(n_estimators=10,random_state=42)\n",
    "    base_learner.fit(x_boostrap,y_boostrap)\n",
    "    \n",
    "#     step 6 add the base learner tp the fit\n",
    "    base_learners.append(base_learner)\n",
    "    \n",
    "    \n",
    "    \n",
    "    "
   ]
  },
  {
   "cell_type": "code",
   "execution_count": 26,
   "id": "dade5de3",
   "metadata": {},
   "outputs": [],
   "source": [
    "# step 7 make a prediction with each base learning \n",
    "base_prediction =[]\n",
    "for base_learner in base_learners:\n",
    "    y_pred=base_learner.predict(x_test)\n",
    "    base_prediction.append(y_pred)"
   ]
  },
  {
   "cell_type": "code",
   "execution_count": 27,
   "id": "b8cde213",
   "metadata": {},
   "outputs": [],
   "source": [
    "# step 8\n",
    "ensamble_predictions=np.round(np.mean(base_prediction,axis=0))"
   ]
  },
  {
   "cell_type": "code",
   "execution_count": 28,
   "id": "1efed3dd",
   "metadata": {},
   "outputs": [],
   "source": [
    "from sklearn.metrics import accuracy_score"
   ]
  },
  {
   "cell_type": "code",
   "execution_count": 29,
   "id": "68500d2f",
   "metadata": {},
   "outputs": [
    {
     "name": "stdout",
     "output_type": "stream",
     "text": [
      "0.94\n"
     ]
    }
   ],
   "source": [
    "# step 9\n",
    "\n",
    "accuracy=accuracy_score(y_pred,ensamble_predictions)\n",
    "print(accuracy)\n"
   ]
  },
  {
   "cell_type": "code",
   "execution_count": null,
   "id": "e02f6adc",
   "metadata": {},
   "outputs": [],
   "source": []
  }
 ],
 "metadata": {
  "kernelspec": {
   "display_name": "Python 3 (ipykernel)",
   "language": "python",
   "name": "python3"
  },
  "language_info": {
   "codemirror_mode": {
    "name": "ipython",
    "version": 3
   },
   "file_extension": ".py",
   "mimetype": "text/x-python",
   "name": "python",
   "nbconvert_exporter": "python",
   "pygments_lexer": "ipython3",
   "version": "3.9.13"
  }
 },
 "nbformat": 4,
 "nbformat_minor": 5
}
